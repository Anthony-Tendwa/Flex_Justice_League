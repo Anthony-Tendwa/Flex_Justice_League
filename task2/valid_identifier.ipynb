{
  "cells": [
    {
      "cell_type": "code",
      "execution_count": 1,
      "metadata": {
        "id": "6rlxEzoUKC2t"
      },
      "outputs": [
        {
          "name": "stdout",
          "output_type": "stream",
          "text": [
            "var1 is a valid identifier.\n"
          ]
        }
      ],
      "source": [
        "#Write a program to test whether a given identifier is valid or not\n",
        "\n",
        "import re\n",
        "\n",
        "def is_valid_identifier(identifier):\n",
        "    # Regular expression to match a valid Python identifier\n",
        "    pattern = '^[a-zA-Z_][a-zA-Z0-9_]*$'\n",
        "\n",
        "    # Function to check if the identifier matches the pattern\n",
        "    if re.match(pattern, identifier):\n",
        "        return True\n",
        "    else:\n",
        "        return False\n",
        "\n",
        "\n",
        "identifier = input(\"Enter an identifier: \")\n",
        "\n",
        "if is_valid_identifier(identifier):\n",
        "    print(f\"{identifier} is a valid identifier.\")\n",
        "else:\n",
        "    print(f\"{identifier} is not a valid identifier.\")\n"
      ]
    }
  ],
  "metadata": {
    "colab": {
      "provenance": []
    },
    "kernelspec": {
      "display_name": "Python 3",
      "name": "python3"
    },
    "language_info": {
      "codemirror_mode": {
        "name": "ipython",
        "version": 3
      },
      "file_extension": ".py",
      "mimetype": "text/x-python",
      "name": "python",
      "nbconvert_exporter": "python",
      "pygments_lexer": "ipython3",
      "version": "3.9.13"
    }
  },
  "nbformat": 4,
  "nbformat_minor": 0
}
